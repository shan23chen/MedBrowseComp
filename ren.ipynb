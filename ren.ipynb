{
 "cells": [
  {
   "cell_type": "code",
   "execution_count": 1,
   "metadata": {},
   "outputs": [
    {
     "data": {
      "text/html": [
       "<div>\n",
       "<style scoped>\n",
       "    .dataframe tbody tr th:only-of-type {\n",
       "        vertical-align: middle;\n",
       "    }\n",
       "\n",
       "    .dataframe tbody tr th {\n",
       "        vertical-align: top;\n",
       "    }\n",
       "\n",
       "    .dataframe thead th {\n",
       "        text-align: right;\n",
       "    }\n",
       "</style>\n",
       "<table border=\"1\" class=\"dataframe\">\n",
       "  <thead>\n",
       "    <tr style=\"text-align: right;\">\n",
       "      <th></th>\n",
       "      <th>question</th>\n",
       "      <th>correct_answer</th>\n",
       "      <th>model_output</th>\n",
       "      <th>extracted_info</th>\n",
       "      <th>correct</th>\n",
       "      <th>urls</th>\n",
       "    </tr>\n",
       "  </thead>\n",
       "  <tbody>\n",
       "    <tr>\n",
       "      <th>0</th>\n",
       "      <td>Find/search the start date of the clinical tri...</td>\n",
       "      <td>2007-07</td>\n",
       "      <td>Start date: October 2010\\n</td>\n",
       "      <td>October 2010</td>\n",
       "      <td>False</td>\n",
       "      <td>NaN</td>\n",
       "    </tr>\n",
       "    <tr>\n",
       "      <th>1</th>\n",
       "      <td>Find/search the start date of the clinical tri...</td>\n",
       "      <td>2007-07</td>\n",
       "      <td>Start date: 2011\\n</td>\n",
       "      <td>2011</td>\n",
       "      <td>False</td>\n",
       "      <td>NaN</td>\n",
       "    </tr>\n",
       "    <tr>\n",
       "      <th>2</th>\n",
       "      <td>Find/search the start date of the clinical tri...</td>\n",
       "      <td>2001-08</td>\n",
       "      <td>Start date: March 2001\\n</td>\n",
       "      <td>March 2001</td>\n",
       "      <td>False</td>\n",
       "      <td>NaN</td>\n",
       "    </tr>\n",
       "    <tr>\n",
       "      <th>3</th>\n",
       "      <td>Find/search the start date of the clinical tri...</td>\n",
       "      <td>2001-08</td>\n",
       "      <td>Start date: March 2001\\n</td>\n",
       "      <td>March 2001</td>\n",
       "      <td>False</td>\n",
       "      <td>NaN</td>\n",
       "    </tr>\n",
       "    <tr>\n",
       "      <th>4</th>\n",
       "      <td>Find/search the start date of the clinical tri...</td>\n",
       "      <td>2011-03</td>\n",
       "      <td>Start date: March 2011\\n</td>\n",
       "      <td>March 2011</td>\n",
       "      <td>True</td>\n",
       "      <td>NaN</td>\n",
       "    </tr>\n",
       "  </tbody>\n",
       "</table>\n",
       "</div>"
      ],
      "text/plain": [
       "                                            question correct_answer  \\\n",
       "0  Find/search the start date of the clinical tri...        2007-07   \n",
       "1  Find/search the start date of the clinical tri...        2007-07   \n",
       "2  Find/search the start date of the clinical tri...        2001-08   \n",
       "3  Find/search the start date of the clinical tri...        2001-08   \n",
       "4  Find/search the start date of the clinical tri...        2011-03   \n",
       "\n",
       "                 model_output extracted_info  correct  urls  \n",
       "0  Start date: October 2010\\n   October 2010    False   NaN  \n",
       "1          Start date: 2011\\n           2011    False   NaN  \n",
       "2    Start date: March 2001\\n     March 2001    False   NaN  \n",
       "3    Start date: March 2001\\n     March 2001    False   NaN  \n",
       "4    Start date: March 2011\\n     March 2011     True   NaN  "
      ]
     },
     "execution_count": 1,
     "metadata": {},
     "output_type": "execute_result"
    }
   ],
   "source": [
    "import pandas as pd\n",
    "\n",
    "df = pd.read_csv(\"results_start_date.csv\")\n",
    "df.head()\n"
   ]
  }
 ],
 "metadata": {
  "kernelspec": {
   "display_name": ".venv",
   "language": "python",
   "name": "python3"
  },
  "language_info": {
   "codemirror_mode": {
    "name": "ipython",
    "version": 3
   },
   "file_extension": ".py",
   "mimetype": "text/x-python",
   "name": "python",
   "nbconvert_exporter": "python",
   "pygments_lexer": "ipython3",
   "version": "3.12.4"
  }
 },
 "nbformat": 4,
 "nbformat_minor": 2
}

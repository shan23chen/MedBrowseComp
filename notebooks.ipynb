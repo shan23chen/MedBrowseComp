{
 "cells": [
  {
   "cell_type": "code",
   "execution_count": null,
   "metadata": {},
   "outputs": [],
   "source": [
    "import json\n",
    "\n",
    "# Read the GPT-4o.json file\n",
    "with open('GPT-4o.json', 'r') as file:\n",
    "    data = json.load(file)\n",
    "\n",
    "\n",
    "import pandas as pd\n",
    "\n",
    "df = pd.read_csv('Hemonc.csv')\n",
    "answers = df['answer'].tolist()"
   ]
  },
  {
   "cell_type": "code",
   "execution_count": 10,
   "metadata": {},
   "outputs": [
    {
     "data": {
      "text/plain": [
       "6212"
      ]
     },
     "execution_count": 10,
     "metadata": {},
     "output_type": "execute_result"
    }
   ],
   "source": [
    "len(data)"
   ]
  },
  {
   "cell_type": "code",
   "execution_count": 28,
   "metadata": {},
   "outputs": [
    {
     "data": {
      "text/plain": [
       "\"To determine the effectiveness of the combination of Cisplatin and Topotecan against the combination of Cisplatin, Topotecan, Hydralazine, and Valproate in the treatment of cervical cancer, let's analyze how these drugs might work together.\\n\\n1. **Cisplatin**: A platinum-based chemotherapeutic agent known to be effective in treating various cancers, including cervical cancer.\\n2. **Topotecan**: A topoisomerase inhibitor used for treating cancers, including cervical cancer. It is often used in combination with cisplatin for enhanced efficacy.\\n\\nThe combination of Cisplatin and Topotecan is a well-studied regimen for cervical cancer and has shown improved outcomes compared to single-agent therapy.\\n\\n3. **Hydralazine**: Primarily used as an anti-hypertensive medication, but has been investigated for its role as a DNA demethylating agent, potentially having anticancer effects.\\n4. **Valproate (Valproic acid)**: Mainly used as an anticonvulsant, it also possesses properties as a histone deacetylase inhibitor that may provide anticancer benefit.\\n\\nThe potential addition of Hydralazine and Valproate to the Cisplatin and Topotecan combination may hold theoretical benefits due to their epigenetic modulation properties. However, these are not established regimens in the standard treatment paradigm for cervical cancer. Without robust clinical trial data to indicate otherwise, the standard combination of Cisplatin and Topotecan is more likely to be considered superior due to proven efficacy in clinical settings.\\n\\nTherefore, considering the standard of care and the lack of established efficacy of adding Hydralazine and Valproate to the regimen beyond theoretical benefits, the Cisplatin and Topotecan combination would be considered superior in this context due to its established clinical use and evidence base.\\n\\n<answer>Option 1</answer>\""
      ]
     },
     "execution_count": 28,
     "metadata": {},
     "output_type": "execute_result"
    }
   ],
   "source": [
    "data[0]['memory'][0]"
   ]
  },
  {
   "cell_type": "code",
   "execution_count": 23,
   "metadata": {},
   "outputs": [
    {
     "data": {
      "text/plain": [
       "[1, 3, 1, 1, 2, 3, 1, 1, 2, 1]"
      ]
     },
     "execution_count": 23,
     "metadata": {},
     "output_type": "execute_result"
    }
   ],
   "source": [
    "# data[0]\n",
    "pred = []\n",
    "for i in data:\n",
    "    try:\n",
    "        pred.append(int(i['memory'][0].split('Option ')[1].rstrip('</answer>')[0]))\n",
    "    except:\n",
    "        pred.append(0)\n",
    "\n",
    "# Check the first 10 predictions\n",
    "pred[:10]"
   ]
  },
  {
   "cell_type": "code",
   "execution_count": null,
   "metadata": {},
   "outputs": [
    {
     "name": "stdout",
     "output_type": "stream",
     "text": [
      "Number of wrong predictions: 2517\n",
      "Accuracy: 59.48%\n"
     ]
    }
   ],
   "source": [
    "import numpy as np\n",
    "\n",
    "# get rows where pred is not the same as answers and then print the count and only keep those rows in df\n",
    "# Convert lists to numpy arrays for faster comparison\n",
    "pred_array = np.array(pred)\n",
    "answers_array = np.array(answers)\n",
    "\n",
    "# Verify lengths match\n",
    "if len(pred_array) != len(answers_array):\n",
    "    raise ValueError(f\"Length mismatch: pred has {len(pred_array)} elements, but answers has {len(answers_array)} elements.\")\n",
    "\n",
    "# Find indices where predictions are wrong\n",
    "wrong_indices = np.where(pred_array != answers_array)[0]\n",
    "wrong_count = len(wrong_indices)\n",
    "\n",
    "print(f\"Number of wrong predictions: {wrong_count}\")\n",
    "print(f\"Accuracy: {(1 - wrong_count/len(pred_array))*100:.2f}%\")\n",
    "\n",
    "# Create a new DataFrame with wrong predictions more efficiently\n",
    "wrong_df = df.iloc[wrong_indices].copy()\n",
    "\n",
    "# Add columns showing the predicted and actual answers\n",
    "wrong_df['predicted'] = pred_array[wrong_indices]\n",
    "wrong_df['actual'] = answers_array[wrong_indices]\n",
    "\n",
    "# Save the wrong predictions to a CSV file\n",
    "wrong_df.to_csv('wrong_predictions.csv', index=False)"
   ]
  },
  {
   "cell_type": "code",
   "execution_count": 37,
   "metadata": {},
   "outputs": [
    {
     "data": {
      "text/html": [
       "<div>\n",
       "<style scoped>\n",
       "    .dataframe tbody tr th:only-of-type {\n",
       "        vertical-align: middle;\n",
       "    }\n",
       "\n",
       "    .dataframe tbody tr th {\n",
       "        vertical-align: top;\n",
       "    }\n",
       "\n",
       "    .dataframe thead th {\n",
       "        text-align: right;\n",
       "    }\n",
       "</style>\n",
       "<table border=\"1\" class=\"dataframe\">\n",
       "  <thead>\n",
       "    <tr style=\"text-align: right;\">\n",
       "      <th></th>\n",
       "      <th>input</th>\n",
       "      <th>model_output</th>\n",
       "      <th>extracted_answer</th>\n",
       "      <th>actual_option</th>\n",
       "      <th>correct</th>\n",
       "    </tr>\n",
       "  </thead>\n",
       "  <tbody>\n",
       "    <tr>\n",
       "      <th>0</th>\n",
       "      <td>{'question': 'Choose an option that best descr...</td>\n",
       "      <td>The evidence shows that the median PFS (Progr...</td>\n",
       "      <td>Option 2</td>\n",
       "      <td>Option 2</td>\n",
       "      <td>True</td>\n",
       "    </tr>\n",
       "    <tr>\n",
       "      <th>1</th>\n",
       "      <td>{'question': 'Choose an option that best descr...</td>\n",
       "      <td>&lt;answer&gt;Option 1&lt;/answer&gt;\\n</td>\n",
       "      <td>Option 1</td>\n",
       "      <td>Option 1</td>\n",
       "      <td>True</td>\n",
       "    </tr>\n",
       "    <tr>\n",
       "      <th>2</th>\n",
       "      <td>{'question': 'Choose an option that best descr...</td>\n",
       "      <td>&lt;answer&gt;Option 3&lt;/answer&gt;\\n</td>\n",
       "      <td>Option 3</td>\n",
       "      <td>Option 2</td>\n",
       "      <td>False</td>\n",
       "    </tr>\n",
       "    <tr>\n",
       "      <th>3</th>\n",
       "      <td>{'question': 'Choose an option that best descr...</td>\n",
       "      <td>The evidence shows that Tasquinimod significan...</td>\n",
       "      <td>Option 1</td>\n",
       "      <td>Option 1</td>\n",
       "      <td>True</td>\n",
       "    </tr>\n",
       "    <tr>\n",
       "      <th>4</th>\n",
       "      <td>{'question': 'Choose an option that best descr...</td>\n",
       "      <td>&lt;answer&gt;Option 2&lt;/answer&gt;\\n</td>\n",
       "      <td>Option 2</td>\n",
       "      <td>Option 2</td>\n",
       "      <td>True</td>\n",
       "    </tr>\n",
       "    <tr>\n",
       "      <th>5</th>\n",
       "      <td>{'question': 'Choose an option that best descr...</td>\n",
       "      <td>&lt;answer&gt;Option 2&lt;/answer&gt;\\n</td>\n",
       "      <td>Option 2</td>\n",
       "      <td>Option 2</td>\n",
       "      <td>True</td>\n",
       "    </tr>\n",
       "    <tr>\n",
       "      <th>6</th>\n",
       "      <td>{'question': 'Choose an option that best descr...</td>\n",
       "      <td>&lt;answer&gt;Option 2&lt;/answer&gt;\\n</td>\n",
       "      <td>Option 2</td>\n",
       "      <td>Option 2</td>\n",
       "      <td>True</td>\n",
       "    </tr>\n",
       "    <tr>\n",
       "      <th>7</th>\n",
       "      <td>{'question': 'Choose an option that best descr...</td>\n",
       "      <td>&lt;answer&gt;Option 2&lt;/answer&gt;\\n</td>\n",
       "      <td>Option 2</td>\n",
       "      <td>Option 2</td>\n",
       "      <td>True</td>\n",
       "    </tr>\n",
       "  </tbody>\n",
       "</table>\n",
       "</div>"
      ],
      "text/plain": [
       "                                               input  \\\n",
       "0  {'question': 'Choose an option that best descr...   \n",
       "1  {'question': 'Choose an option that best descr...   \n",
       "2  {'question': 'Choose an option that best descr...   \n",
       "3  {'question': 'Choose an option that best descr...   \n",
       "4  {'question': 'Choose an option that best descr...   \n",
       "5  {'question': 'Choose an option that best descr...   \n",
       "6  {'question': 'Choose an option that best descr...   \n",
       "7  {'question': 'Choose an option that best descr...   \n",
       "\n",
       "                                        model_output extracted_answer  \\\n",
       "0   The evidence shows that the median PFS (Progr...         Option 2   \n",
       "1                        <answer>Option 1</answer>\\n         Option 1   \n",
       "2                        <answer>Option 3</answer>\\n         Option 3   \n",
       "3  The evidence shows that Tasquinimod significan...         Option 1   \n",
       "4                        <answer>Option 2</answer>\\n         Option 2   \n",
       "5                        <answer>Option 2</answer>\\n         Option 2   \n",
       "6                        <answer>Option 2</answer>\\n         Option 2   \n",
       "7                        <answer>Option 2</answer>\\n         Option 2   \n",
       "\n",
       "  actual_option  correct  \n",
       "0      Option 2     True  \n",
       "1      Option 1     True  \n",
       "2      Option 2    False  \n",
       "3      Option 1     True  \n",
       "4      Option 2     True  \n",
       "5      Option 2     True  \n",
       "6      Option 2     True  \n",
       "7      Option 2     True  "
      ]
     },
     "execution_count": 37,
     "metadata": {},
     "output_type": "execute_result"
    }
   ],
   "source": [
    "\n",
    "import pandas as pd\n",
    "\n",
    "df = pd.read_csv('results.csv')\n",
    "df"
   ]
  },
  {
   "cell_type": "code",
   "execution_count": 40,
   "metadata": {},
   "outputs": [
    {
     "data": {
      "text/plain": [
       "\"{'question': 'Choose an option that best describes the efficacy of Best supportive care compared to Panitumumab monotherapy when used to treat Colorectal cancer (Metastatic).', 'options': ['superior', 'inferior', 'no difference']}\""
      ]
     },
     "execution_count": 40,
     "metadata": {},
     "output_type": "execute_result"
    }
   ],
   "source": [
    "df['input'][4]"
   ]
  },
  {
   "cell_type": "code",
   "execution_count": 36,
   "metadata": {},
   "outputs": [
    {
     "data": {
      "text/plain": [
       "'Choose an option that best describes the efficacy of Cisplatin and Topotecan compared to Cisplatin, Topotecan, Hydralazine, Valproate when used to treat Cervical cancer.'"
      ]
     },
     "execution_count": 36,
     "metadata": {},
     "output_type": "execute_result"
    }
   ],
   "source": [
    "df['question 1'][0]"
   ]
  },
  {
   "cell_type": "code",
   "execution_count": 32,
   "metadata": {},
   "outputs": [
    {
     "data": {
      "text/plain": [
       "\"{'question': 'Choose an option that best describes the efficacy of Cisplatin and Topotecan compared to Cisplatin, Topotecan, Hydralazine, Valproate when used to treat Cervical cancer.', 'options': ['superior', 'inferior', 'no difference']}\""
      ]
     },
     "execution_count": 32,
     "metadata": {},
     "output_type": "execute_result"
    }
   ],
   "source": [
    "df['input'][0]"
   ]
  },
  {
   "cell_type": "code",
   "execution_count": null,
   "metadata": {},
   "outputs": [],
   "source": []
  }
 ],
 "metadata": {
  "kernelspec": {
   "display_name": "base",
   "language": "python",
   "name": "python3"
  },
  "language_info": {
   "codemirror_mode": {
    "name": "ipython",
    "version": 3
   },
   "file_extension": ".py",
   "mimetype": "text/x-python",
   "name": "python",
   "nbconvert_exporter": "python",
   "pygments_lexer": "ipython3",
   "version": "3.12.4"
  }
 },
 "nbformat": 4,
 "nbformat_minor": 2
}
